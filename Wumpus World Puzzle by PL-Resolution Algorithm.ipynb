{
 "cells": [
  {
   "cell_type": "markdown",
   "id": "7d1a20ad-adef-48b0-927a-faeba7bfd6f4",
   "metadata": {},
   "source": [
    "### Representing the Wumpus World in Propositional Logic"
   ]
  },
  {
   "cell_type": "code",
   "execution_count": 2,
   "id": "7eb78527-ed88-4f48-8f09-615c18810d97",
   "metadata": {},
   "outputs": [
    {
     "name": "stdout",
     "output_type": "stream",
     "text": [
      "Initial Knowledge Base:\n",
      "B(0,0) => P(1,0) OR P(0,1)\n",
      "B(0,1) => P(1,1) OR P(0,0) OR P(0,2)\n",
      "B(0,2) => P(1,2) OR P(0,1) OR P(0,3)\n",
      "B(0,3) => P(1,3) OR P(0,2)\n",
      "B(1,0) => P(0,0) OR P(2,0) OR P(1,1)\n",
      "B(1,1) => P(0,1) OR P(2,1) OR P(1,0) OR P(1,2)\n",
      "B(1,2) => P(0,2) OR P(2,2) OR P(1,1) OR P(1,3)\n",
      "B(1,3) => P(0,3) OR P(2,3) OR P(1,2)\n",
      "B(2,0) => P(1,0) OR P(3,0) OR P(2,1)\n",
      "B(2,1) => P(1,1) OR P(3,1) OR P(2,0) OR P(2,2)\n",
      "B(2,2) => P(1,2) OR P(3,2) OR P(2,1) OR P(2,3)\n",
      "B(2,3) => P(1,3) OR P(3,3) OR P(2,2)\n",
      "B(3,0) => P(2,0) OR P(3,1)\n",
      "B(3,1) => P(2,1) OR P(3,0) OR P(3,2)\n",
      "B(3,2) => P(2,2) OR P(3,1) OR P(3,3)\n",
      "B(3,3) => P(2,3) OR P(3,2)\n",
      "S(0,0) => W(1,0) OR W(0,1)\n",
      "S(0,1) => W(1,1) OR W(0,0) OR W(0,2)\n",
      "S(0,2) => W(1,2) OR W(0,1) OR W(0,3)\n",
      "S(0,3) => W(1,3) OR W(0,2)\n",
      "S(1,0) => W(0,0) OR W(2,0) OR W(1,1)\n",
      "S(1,1) => W(0,1) OR W(2,1) OR W(1,0) OR W(1,2)\n",
      "S(1,2) => W(0,2) OR W(2,2) OR W(1,1) OR W(1,3)\n",
      "S(1,3) => W(0,3) OR W(2,3) OR W(1,2)\n",
      "S(2,0) => W(1,0) OR W(3,0) OR W(2,1)\n",
      "S(2,1) => W(1,1) OR W(3,1) OR W(2,0) OR W(2,2)\n",
      "S(2,2) => W(1,2) OR W(3,2) OR W(2,1) OR W(2,3)\n",
      "S(2,3) => W(1,3) OR W(3,3) OR W(2,2)\n",
      "S(3,0) => W(2,0) OR W(3,1)\n",
      "S(3,1) => W(2,1) OR W(3,0) OR W(3,2)\n",
      "S(3,2) => W(2,2) OR W(3,1) OR W(3,3)\n",
      "S(3,3) => W(2,3) OR W(3,2)\n"
     ]
    }
   ],
   "source": [
    "# Step 1: Define the Propositional Variables\n",
    "# Each cell in the grid is represented by its coordinates (x, y).\n",
    "# Propositions:\n",
    "# - W(x, y): Wumpus in cell (x, y)\n",
    "# - P(x, y): Pit in cell (x, y)\n",
    "# - B(x, y): Breeze in cell (x, y)\n",
    "# - S(x, y): Stench in cell (x, y)\n",
    "# - G(x, y): Gold in cell (x, y)\n",
    "# - OK(x, y): Safe cell at (x, y)\n",
    "\n",
    "# Define a grid size\n",
    "GRID_SIZE = 4  # 4x4 grid for the Wumpus World\n",
    "\n",
    "# Initialize the knowledge base (KB) as a list of clauses\n",
    "knowledge_base = []\n",
    "\n",
    "# Function to encode logical rules\n",
    "def add_clause(clause):\n",
    "    \"\"\"Add a clause to the knowledge base.\"\"\"\n",
    "    knowledge_base.append(clause)\n",
    "\n",
    "# Logical rules for the Wumpus World\n",
    "# 1. If there is a breeze in a cell, there is at least one pit in the neighboring cells.\n",
    "for x in range(GRID_SIZE):\n",
    "    for y in range(GRID_SIZE):\n",
    "        neighbors = [\n",
    "            (x + dx, y + dy)\n",
    "            for dx, dy in [(-1, 0), (1, 0), (0, -1), (0, 1)]\n",
    "            if 0 <= x + dx < GRID_SIZE and 0 <= y + dy < GRID_SIZE\n",
    "        ]\n",
    "        clause = f\"B({x},{y}) => \" + \" OR \".join([f\"P({nx},{ny})\" for nx, ny in neighbors])\n",
    "        add_clause(clause)\n",
    "\n",
    "# 2. If there is a stench in a cell, there is at least one Wumpus in the neighboring cells.\n",
    "for x in range(GRID_SIZE):\n",
    "    for y in range(GRID_SIZE):\n",
    "        neighbors = [\n",
    "            (x + dx, y + dy)\n",
    "            for dx, dy in [(-1, 0), (1, 0), (0, -1), (0, 1)]\n",
    "            if 0 <= x + dx < GRID_SIZE and 0 <= y + dy < GRID_SIZE\n",
    "        ]\n",
    "        clause = f\"S({x},{y}) => \" + \" OR \".join([f\"W({nx},{ny})\" for nx, ny in neighbors])\n",
    "        add_clause(clause)\n",
    "\n",
    "# Print initial knowledge base\n",
    "print(\"Initial Knowledge Base:\")\n",
    "for clause in knowledge_base:\n",
    "    print(clause)"
   ]
  },
  {
   "cell_type": "markdown",
   "id": "3a748f35-0312-4e9b-b8e0-a5185398e6b9",
   "metadata": {},
   "source": [
    "### Implement the PL-Resolution Algorithm"
   ]
  },
  {
   "cell_type": "code",
   "execution_count": 4,
   "id": "1608066e-02b9-4723-bb12-2b345d186332",
   "metadata": {},
   "outputs": [
    {
     "name": "stdout",
     "output_type": "stream",
     "text": [
      "\n",
      "PL-Resolution Test:\n",
      "Query 'P(1,2)' is not entailed\n"
     ]
    }
   ],
   "source": [
    "# Step 2: Implement the PL-Resolution Algorithm\n",
    "def pl_resolution(kb, query):\n",
    "    \"\"\"\n",
    "    Implements the Propositional Logic Resolution algorithm.\n",
    "    Args:\n",
    "        kb: List of clauses (knowledge base).\n",
    "        query: Clause to resolve.\n",
    "    Returns:\n",
    "        True if the query is entailed by the knowledge base; False otherwise.\n",
    "    \"\"\"\n",
    "    from itertools import combinations\n",
    "\n",
    "    # Negate the query and add to the KB\n",
    "    negated_query = f\"NOT({query})\"\n",
    "    clauses = kb + [negated_query]\n",
    "\n",
    "    # Function to resolve two clauses\n",
    "    def resolve(ci, cj):\n",
    "        resolved = set()\n",
    "        for di in ci:\n",
    "            for dj in cj:\n",
    "                if di == f\"NOT({dj})\" or f\"NOT({di})\" == dj:\n",
    "                    new_clause = (ci - {di}) | (cj - {dj})\n",
    "                    resolved.add(frozenset(new_clause))\n",
    "        return resolved\n",
    "\n",
    "    # Perform resolution\n",
    "    new = set()\n",
    "    while True:\n",
    "        pairs = combinations(clauses, 2)\n",
    "        for ci, cj in pairs:\n",
    "            resolvents = resolve(ci, cj)\n",
    "            if frozenset() in resolvents:  # Empty clause found\n",
    "                return True\n",
    "            new = new.union(resolvents)\n",
    "        if new.issubset(clauses):  # No new clauses\n",
    "            return False\n",
    "        clauses = clauses.union(new)\n",
    "\n",
    "# Test PL-Resolution\n",
    "print(\"\\nPL-Resolution Test:\")\n",
    "result = pl_resolution(knowledge_base, \"P(1,2)\")\n",
    "print(\"Query 'P(1,2)' is\", \"entailed\" if result else \"not entailed\")"
   ]
  },
  {
   "cell_type": "markdown",
   "id": "092511dd-25d6-416b-9f30-363aaec4f04a",
   "metadata": {},
   "source": [
    "### Building the Knowledge Base Dynamically"
   ]
  },
  {
   "cell_type": "code",
   "execution_count": 6,
   "id": "a4aea5b2-2626-49db-befd-6fc10699ace5",
   "metadata": {},
   "outputs": [
    {
     "name": "stdout",
     "output_type": "stream",
     "text": [
      "Percept 'Stench' added to KB for cell (1, 1).\n"
     ]
    }
   ],
   "source": [
    "# Step 3: Update KB Based on Percepts\n",
    "def update_kb_with_percept(kb, percept, x, y):\n",
    "    \"\"\"\n",
    "    Updates the KB with the agent's percepts.\n",
    "    Args:\n",
    "        kb: Knowledge base.\n",
    "        percept: Percept type (e.g., \"Breeze\", \"Stench\").\n",
    "        x, y: Cell coordinates.\n",
    "    \"\"\"\n",
    "    if percept == \"Breeze\":\n",
    "        kb.append(f\"B({x},{y})\")\n",
    "    elif percept == \"Stench\":\n",
    "        kb.append(f\"S({x},{y})\")\n",
    "    print(f\"Percept '{percept}' added to KB for cell ({x}, {y}).\")\n",
    "\n",
    "# Simulate receiving a percept\n",
    "update_kb_with_percept(knowledge_base, \"Stench\", 1, 1)"
   ]
  },
  {
   "cell_type": "markdown",
   "id": "2a84f342-d7b5-4d3f-a03b-b0fc9924e77d",
   "metadata": {},
   "source": [
    "### Agent Decision-Making"
   ]
  },
  {
   "cell_type": "code",
   "execution_count": 8,
   "id": "2d967d3f-366e-4677-88fc-e7d93e7cbfda",
   "metadata": {},
   "outputs": [
    {
     "name": "stdout",
     "output_type": "stream",
     "text": [
      "Agent decision for cell (1,2): Move\n"
     ]
    }
   ],
   "source": [
    "# Step 4: Agent Decision-Making\n",
    "def agent_decision(kb, x, y):\n",
    "    \"\"\"\n",
    "    Makes a decision for the agent based on logical inference.\n",
    "    Args:\n",
    "        kb: Knowledge base.\n",
    "        x, y: Current cell of the agent.\n",
    "    Returns:\n",
    "        Action (move, shoot, grab, or no-op).\n",
    "    \"\"\"\n",
    "    if pl_resolution(kb, f\"P({x},{y})\"):\n",
    "        return \"Avoid\"  # Don't move to a dangerous cell\n",
    "    elif pl_resolution(kb, f\"G({x},{y})\"):\n",
    "        return \"Grab\"  # Grab gold\n",
    "    elif pl_resolution(kb, f\"W({x},{y})\"):\n",
    "        return \"Shoot\"  # Shoot Wumpus\n",
    "    else:\n",
    "        return \"Move\"  # Safe to move\n",
    "\n",
    "# Test agent decision\n",
    "decision = agent_decision(knowledge_base, 1, 2)\n",
    "print(f\"Agent decision for cell (1,2): {decision}\")"
   ]
  },
  {
   "cell_type": "markdown",
   "id": "9657fad7-1bce-4db5-849b-67c0f9a46d61",
   "metadata": {},
   "source": [
    "### Simulation and User Interaction"
   ]
  },
  {
   "cell_type": "code",
   "execution_count": 10,
   "id": "5d2ea7e2-d063-49cb-803a-68f00b208cdb",
   "metadata": {},
   "outputs": [
    {
     "name": "stdout",
     "output_type": "stream",
     "text": [
      "Updated cell (0,0) to 'Wumpus'\n",
      "Updated cell (1,1) to 'Wumpus'\n",
      "Updated cell (0,1) to 'Wumpus'\n",
      "Updated cell (0,1) to 'Pit'\n",
      "Updated cell (0,2) to 'Wumpus'\n",
      "Updated cell (0,3) to 'Wumpus'\n",
      "Updated cell (0,3) to 'Pit'\n",
      "Updated cell (0,3) to 'Gold'\n",
      "Updated cell (1,2) to 'Wumpus'\n",
      "Updated cell (1,3) to 'Wumpus'\n",
      "Updated cell (1,0) to 'Wumpus'\n",
      "Updated cell (1,0) to 'Pit'\n",
      "Updated cell (1,2) to 'Pit'\n",
      "Updated cell (1,3) to 'Pit'\n",
      "Updated cell (1,3) to 'Gold'\n",
      "Updated cell (2,1) to 'Wumpus'\n",
      "Updated cell (2,1) to 'Pit'\n",
      "Updated cell (2,1) to 'Gold'\n",
      "Updated cell (2,0) to 'Wumpus'\n",
      "Updated cell (2,2) to 'Wumpus'\n",
      "Updated cell (2,2) to 'Pit'\n",
      "Updated cell (2,2) to 'Gold'\n",
      "Updated cell (2,3) to 'Wumpus'\n",
      "Updated cell (2,3) to 'Pit'\n",
      "Updated cell (3,3) to 'Wumpus'\n",
      "Updated cell (3,2) to 'Wumpus'\n",
      "Updated cell (3,1) to 'Wumpus'\n",
      "Updated cell (3,0) to 'Wumpus'\n",
      "Simulating agent in the Wumpus World...\n",
      "Cell (0,0): Wumpus\n",
      "Cell (0,1): Pit\n",
      "Cell (0,2): Wumpus\n",
      "Cell (0,3): Gold\n",
      "Cell (1,0): Pit\n",
      "Cell (1,1): Wumpus\n",
      "Cell (1,2): Pit\n",
      "Cell (1,3): Gold\n",
      "Cell (2,0): Wumpus\n",
      "Cell (2,1): Gold\n",
      "Cell (2,2): Gold\n",
      "Cell (2,3): Pit\n",
      "Cell (3,0): Wumpus\n",
      "Cell (3,1): Wumpus\n",
      "Cell (3,2): Wumpus\n",
      "Cell (3,3): Wumpus\n",
      "Simulation complete. (You can replace this with the actual agent logic!)\n"
     ]
    }
   ],
   "source": [
    "import tkinter as tk\n",
    "\n",
    "# Step 5: Interactive GUI Simulation of Wumpus World\n",
    "\n",
    "# Define grid size and initialize the world\n",
    "GRID_SIZE = 4\n",
    "world = [[None for _ in range(GRID_SIZE)] for _ in range(GRID_SIZE)]\n",
    "\n",
    "# Possible cell states\n",
    "CELL_STATES = [\"Empty\", \"Wumpus\", \"Pit\", \"Gold\"]\n",
    "\n",
    "def create_gui():\n",
    "    def update_cell(x, y):\n",
    "        \"\"\"\n",
    "        Update the cell with a new state based on the current selection.\n",
    "        \"\"\"\n",
    "        current_state = world[x][y]\n",
    "        # Find the next state in the CELL_STATES cycle\n",
    "        next_state = CELL_STATES[(CELL_STATES.index(current_state) + 1) % len(CELL_STATES)]\n",
    "        world[x][y] = next_state\n",
    "        buttons[x][y].config(text=f\"{next_state}\")\n",
    "        print(f\"Updated cell ({x},{y}) to '{next_state}'\")\n",
    "\n",
    "    def reset_world():\n",
    "        \"\"\"\n",
    "        Reset the grid to the default empty state.\n",
    "        \"\"\"\n",
    "        for i in range(GRID_SIZE):\n",
    "            for j in range(GRID_SIZE):\n",
    "                world[i][j] = \"Empty\"\n",
    "                buttons[i][j].config(text=\"Empty\")\n",
    "        print(\"World reset to empty state.\")\n",
    "\n",
    "    # Initialize Tkinter root\n",
    "    root = tk.Tk()\n",
    "    root.title(\"Interactive Wumpus World Simulation\")\n",
    "\n",
    "    # Create buttons for the grid\n",
    "    buttons = [[None for _ in range(GRID_SIZE)] for _ in range(GRID_SIZE)]\n",
    "    for x in range(GRID_SIZE):\n",
    "        for y in range(GRID_SIZE):\n",
    "            # Initialize each cell as \"Empty\"\n",
    "            world[x][y] = \"Empty\"\n",
    "            btn = tk.Button(\n",
    "                root, text=\"Empty\", width=10, height=4,\n",
    "                command=lambda x=x, y=y: update_cell(x, y)\n",
    "            )\n",
    "            btn.grid(row=x, column=y)\n",
    "            buttons[x][y] = btn\n",
    "\n",
    "    # Add reset button\n",
    "    reset_button = tk.Button(root, text=\"Reset World\", command=reset_world)\n",
    "    reset_button.grid(row=GRID_SIZE, column=0, columnspan=GRID_SIZE // 2)\n",
    "\n",
    "    # Add simulate button\n",
    "    def simulate_agent():\n",
    "        \"\"\"\n",
    "        Simulate the agent's behavior based on the current world configuration.\n",
    "        \"\"\"\n",
    "        print(\"Simulating agent in the Wumpus World...\")\n",
    "        for row in range(GRID_SIZE):\n",
    "            for col in range(GRID_SIZE):\n",
    "                print(f\"Cell ({row},{col}): {world[row][col]}\")\n",
    "        print(\"Simulation complete. (You can replace this with the actual agent logic!)\")\n",
    "\n",
    "    simulate_button = tk.Button(root, text=\"Simulate Agent\", command=simulate_agent)\n",
    "    simulate_button.grid(row=GRID_SIZE, column=GRID_SIZE // 2, columnspan=GRID_SIZE // 2)\n",
    "\n",
    "    # Start the main Tkinter loop\n",
    "    root.mainloop()\n",
    "\n",
    "# Run the GUI\n",
    "create_gui()"
   ]
  },
  {
   "cell_type": "markdown",
   "id": "ec2ee4bb-5cd2-43da-adc5-46566a12f016",
   "metadata": {},
   "source": [
    "### Evaluation and Testing"
   ]
  },
  {
   "cell_type": "code",
   "execution_count": 12,
   "id": "1a18cf69-5f9a-455f-87d0-1823ee941979",
   "metadata": {},
   "outputs": [
    {
     "name": "stdout",
     "output_type": "stream",
     "text": [
      "Agent success rate: 80.00%\n"
     ]
    },
    {
     "data": {
      "text/plain": [
       "0.8"
      ]
     },
     "execution_count": 12,
     "metadata": {},
     "output_type": "execute_result"
    }
   ],
   "source": [
    "# Step 6: Evaluation\n",
    "def evaluate_agent(kb):\n",
    "    \"\"\"\n",
    "    Evaluates the agent's success in solving the Wumpus World.\n",
    "    Args:\n",
    "        kb: Knowledge base.\n",
    "    Returns:\n",
    "        Performance metrics.\n",
    "    \"\"\"\n",
    "    # Example metric: Success rate\n",
    "    success_rate = 0.8  # Placeholder value\n",
    "    print(f\"Agent success rate: {success_rate * 100:.2f}%\")\n",
    "    return success_rate\n",
    "\n",
    "# Test evaluation\n",
    "evaluate_agent(knowledge_base)"
   ]
  },
  {
   "cell_type": "code",
   "execution_count": 21,
   "id": "3376c705-c252-4878-8178-a42d494badbc",
   "metadata": {},
   "outputs": [
    {
     "name": "stdout",
     "output_type": "stream",
     "text": [
      "Agent success rate: 75.00%\n"
     ]
    },
    {
     "data": {
      "text/plain": [
       "0.75"
      ]
     },
     "execution_count": 21,
     "metadata": {},
     "output_type": "execute_result"
    }
   ],
   "source": [
    "# Step 6: Evaluation - Evaluate Agent's Success\n",
    "def evaluate_agent(kb, world):\n",
    "    \"\"\"\n",
    "    Evaluates the agent's success in solving the Wumpus World.\n",
    "    Args:\n",
    "        kb: Knowledge base.\n",
    "        world: The grid representing the Wumpus World with its hazards.\n",
    "    Returns:\n",
    "        Success rate and the number of actions taken.\n",
    "    \"\"\"\n",
    "    total_actions = 0\n",
    "    successful_actions = 0\n",
    "    \n",
    "    # Iterate through each cell of the world and simulate the agent's decisions.\n",
    "    for x in range(len(world)):\n",
    "        for y in range(len(world[x])):\n",
    "            total_actions += 1\n",
    "            action = agent_decision(kb, x, y)\n",
    "            \n",
    "            # Check if the agent successfully grabs the gold\n",
    "            if action == \"Grab\" and world[x][y] == \"Gold\":\n",
    "                successful_actions += 1\n",
    "            # Check if the agent avoids hazardous cells (Wumpus, Pit)\n",
    "            elif action == \"Avoid\" and (world[x][y] == \"Wumpus\" or world[x][y] == \"Pit\"):\n",
    "                successful_actions += 1\n",
    "            # Check if the agent shoots the Wumpus when it's in the correct position\n",
    "            elif action == \"Shoot\" and world[x][y] == \"Wumpus\":\n",
    "                successful_actions += 1\n",
    "            # Check if the agent moves to a safe cell\n",
    "            elif action == \"Move\" and world[x][y] == \"Empty\":\n",
    "                successful_actions += 1\n",
    "\n",
    "    # Calculate the success rate based on successful actions\n",
    "    success_rate = successful_actions / total_actions if total_actions > 0 else 0\n",
    "    print(f\"Agent success rate: {success_rate * 100:.2f}%\")\n",
    "    return success_rate\n",
    "\n",
    "\n",
    "# Example world configuration: Representing a 4x4 grid.\n",
    "# \"Empty\", \"Wumpus\", \"Pit\", \"Gold\"\n",
    "world = [\n",
    "    [\"Empty\", \"Empty\", \"Pit\", \"Empty\"],\n",
    "    [\"Wumpus\", \"Empty\", \"Empty\", \"Gold\"],\n",
    "    [\"Empty\", \"Pit\", \"Empty\", \"Empty\"],\n",
    "    [\"Empty\", \"Empty\", \"Empty\", \"Empty\"]\n",
    "]\n",
    "\n",
    "# Run evaluation on the knowledge base and the world\n",
    "evaluate_agent(knowledge_base, world)"
   ]
  },
  {
   "cell_type": "code",
   "execution_count": null,
   "id": "8afeeb19-34d4-4596-96aa-1c4434d495b3",
   "metadata": {},
   "outputs": [],
   "source": []
  }
 ],
 "metadata": {
  "kernelspec": {
   "display_name": "Python 3 (ipykernel)",
   "language": "python",
   "name": "python3"
  },
  "language_info": {
   "codemirror_mode": {
    "name": "ipython",
    "version": 3
   },
   "file_extension": ".py",
   "mimetype": "text/x-python",
   "name": "python",
   "nbconvert_exporter": "python",
   "pygments_lexer": "ipython3",
   "version": "3.12.4"
  }
 },
 "nbformat": 4,
 "nbformat_minor": 5
}
